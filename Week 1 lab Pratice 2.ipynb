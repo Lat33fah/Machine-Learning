{
 "cells": [
  {
   "cell_type": "markdown",
   "id": "015b2e42",
   "metadata": {},
   "source": [
    "Cost Function"
   ]
  },
  {
   "cell_type": "code",
   "execution_count": 1,
   "id": "7f508d09",
   "metadata": {},
   "outputs": [],
   "source": [
    "import numpy as np\n",
    "%matplotlib widget\n",
    "import matplotlib.pyplot as plt\n",
    "from lab_utils_uni import plt_intuition, plt_stationary, plt_update_onclick, soup_bowl\n",
    "plt.style.use('./deeplearning.mplstyle')"
   ]
  },
  {
   "cell_type": "code",
   "execution_count": 2,
   "id": "b71f3260",
   "metadata": {},
   "outputs": [],
   "source": [
    "x_train = np.array([1.0, 2.0])\n",
    "y_train = np.array([300.0, 500.0])"
   ]
  },
  {
   "cell_type": "code",
   "execution_count": 5,
   "id": "cfe091d0",
   "metadata": {},
   "outputs": [],
   "source": [
    "def compute_cost(x, y, w, b):\n",
    "    m = x.shape[0]\n",
    "    \n",
    "    cost_sum = 0\n",
    "    for i in range(m):\n",
    "        f_wb = w * x[i] + b\n",
    "        cost = (f_wb -  y[i])**2\n",
    "        cost_sum = cost_sum + cost\n",
    "    total_cost = cost_sum / 2*m\n",
    "    \n",
    "    return total_cost"
   ]
  },
  {
   "cell_type": "code",
   "execution_count": 6,
   "id": "f5501d4c",
   "metadata": {},
   "outputs": [
    {
     "data": {
      "text/plain": [
       "50000.0"
      ]
     },
     "execution_count": 6,
     "metadata": {},
     "output_type": "execute_result"
    }
   ],
   "source": [
    "compute_cost(x_train, y_train, 100, 100)"
   ]
  },
  {
   "cell_type": "code",
   "execution_count": 7,
   "id": "e92da38c",
   "metadata": {},
   "outputs": [
    {
     "data": {
      "text/plain": [
       "112500.0"
      ]
     },
     "execution_count": 7,
     "metadata": {},
     "output_type": "execute_result"
    }
   ],
   "source": [
    "compute_cost(x_train, y_train, 50, 100)"
   ]
  },
  {
   "cell_type": "code",
   "execution_count": 8,
   "id": "08e3cf87",
   "metadata": {},
   "outputs": [
    {
     "data": {
      "text/plain": [
       "10000.0"
      ]
     },
     "execution_count": 8,
     "metadata": {},
     "output_type": "execute_result"
    }
   ],
   "source": [
    "compute_cost(x_train, y_train, 100, 200)"
   ]
  },
  {
   "cell_type": "code",
   "execution_count": 11,
   "id": "223f517c",
   "metadata": {},
   "outputs": [
    {
     "data": {
      "text/plain": [
       "209700.0"
      ]
     },
     "execution_count": 11,
     "metadata": {},
     "output_type": "execute_result"
    }
   ],
   "source": [
    "compute_cost(x_train, y_train, 50, 10)"
   ]
  },
  {
   "cell_type": "code",
   "execution_count": 12,
   "id": "53091847",
   "metadata": {},
   "outputs": [
    {
     "data": {
      "text/plain": [
       "120200.0"
      ]
     },
     "execution_count": 12,
     "metadata": {},
     "output_type": "execute_result"
    }
   ],
   "source": [
    "compute_cost(x_train, y_train, 100, 10)"
   ]
  },
  {
   "cell_type": "code",
   "execution_count": 13,
   "id": "0f3d200a",
   "metadata": {},
   "outputs": [
    {
     "data": {
      "text/plain": [
       "0.0"
      ]
     },
     "execution_count": 13,
     "metadata": {},
     "output_type": "execute_result"
    }
   ],
   "source": [
    "compute_cost(x_train, y_train, 200, 100)"
   ]
  },
  {
   "cell_type": "markdown",
   "id": "e3431f34",
   "metadata": {},
   "source": [
    "Visualization"
   ]
  },
  {
   "cell_type": "code",
   "execution_count": 14,
   "id": "749ac6bc",
   "metadata": {},
   "outputs": [],
   "source": [
    "x_train = np.array([1.0, 1.7, 2.0, 2.5, 3.0, 3.2])\n",
    "y_train = np.array([250, 300, 480,  430,   630, 730,])"
   ]
  },
  {
   "cell_type": "code",
   "execution_count": 15,
   "id": "d27ae0d1",
   "metadata": {},
   "outputs": [
    {
     "data": {
      "text/plain": [
       "169200.0"
      ]
     },
     "execution_count": 15,
     "metadata": {},
     "output_type": "execute_result"
    }
   ],
   "source": [
    "compute_cost(x_train, y_train, 200, 100)"
   ]
  },
  {
   "cell_type": "code",
   "execution_count": 16,
   "id": "b85709af",
   "metadata": {},
   "outputs": [
    {
     "data": {
      "text/plain": [
       "573600.0"
      ]
     },
     "execution_count": 16,
     "metadata": {},
     "output_type": "execute_result"
    }
   ],
   "source": [
    "compute_cost(x_train, y_train, 100, 100)"
   ]
  },
  {
   "cell_type": "code",
   "execution_count": 33,
   "id": "7563f33f",
   "metadata": {},
   "outputs": [
    {
     "data": {
      "text/plain": [
       "66714.0"
      ]
     },
     "execution_count": 33,
     "metadata": {},
     "output_type": "execute_result"
    }
   ],
   "source": [
    "compute_cost(x_train, y_train, 190, 50)"
   ]
  },
  {
   "cell_type": "code",
   "execution_count": 37,
   "id": "fc7ccfc4",
   "metadata": {},
   "outputs": [
    {
     "data": {
      "text/plain": [
       "62505.65999999998"
      ]
     },
     "execution_count": 37,
     "metadata": {},
     "output_type": "execute_result"
    }
   ],
   "source": [
    "compute_cost(x_train, y_train, 209, 2.4)"
   ]
  },
  {
   "cell_type": "code",
   "execution_count": 39,
   "id": "d87e45a7",
   "metadata": {},
   "outputs": [
    {
     "data": {
      "text/plain": [
       "62502.83999999998"
      ]
     },
     "execution_count": 39,
     "metadata": {},
     "output_type": "execute_result"
    }
   ],
   "source": [
    "compute_cost(x_train, y_train, 209, 2.5)"
   ]
  },
  {
   "cell_type": "code",
   "execution_count": 46,
   "id": "ae3851f9",
   "metadata": {},
   "outputs": [
    {
     "data": {
      "text/plain": [
       "62494.13999999997"
      ]
     },
     "execution_count": 46,
     "metadata": {},
     "output_type": "execute_result"
    }
   ],
   "source": [
    "compute_cost(x_train, y_train, 209, 3.0)"
   ]
  },
  {
   "cell_type": "code",
   "execution_count": null,
   "id": "15e5e0be",
   "metadata": {},
   "outputs": [],
   "source": []
  }
 ],
 "metadata": {
  "kernelspec": {
   "display_name": "Python 3",
   "language": "python",
   "name": "python3"
  },
  "language_info": {
   "codemirror_mode": {
    "name": "ipython",
    "version": 3
   },
   "file_extension": ".py",
   "mimetype": "text/x-python",
   "name": "python",
   "nbconvert_exporter": "python",
   "pygments_lexer": "ipython3",
   "version": "3.8.8"
  }
 },
 "nbformat": 4,
 "nbformat_minor": 5
}
